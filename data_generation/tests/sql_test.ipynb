{
 "cells": [
  {
   "cell_type": "code",
   "execution_count": 1,
   "metadata": {},
   "outputs": [],
   "source": [
    "import os\n",
    "import sys\n",
    "parent_dir = os.path.abspath(os.path.join(os.path.join(os.getcwd(), \"..\"), \"..\"))\n",
    "sys.path.append(parent_dir)\n",
    "from pathlib import Path\n",
    "\n",
    "import numpy as np\n",
    "from data_generation.models.tech_substitution import TechnologySubstitution, NumericalSolver\n",
    "from data_generation.simulations.grid import Grid, fractional_transformation\n",
    "from data_generation.simulations.simulator import Simulator"
   ]
  },
  {
   "cell_type": "code",
   "execution_count": 2,
   "metadata": {},
   "outputs": [
    {
     "data": {
      "text/plain": [
       "PosixPath('/home/julian/tuberlin/projects/mdp-world-model/datasets/results')"
      ]
     },
     "execution_count": 2,
     "metadata": {},
     "output_type": "execute_result"
    }
   ],
   "source": [
    "OUTPUT_DIR = Path.cwd().parent.parent / \"datasets\" / \"results\"\n",
    "OUTPUT_DIR"
   ]
  },
  {
   "cell_type": "code",
   "execution_count": 3,
   "metadata": {},
   "outputs": [],
   "source": [
    "def test_simulation_storage(output_dir):\n",
    "    \"\"\"Test simulating and storing technology substitution trajectory\n",
    "    \n",
    "    Args:\n",
    "        output_dir (str or Path): Absolute path to output directory\n",
    "    \"\"\"\n",
    "    # Setup paths\n",
    "    output_path = Path(output_dir)\n",
    "    output_path.mkdir(parents=True, exist_ok=True)\n",
    "    \n",
    "    # Setup simulation\n",
    "    bounds = [(0, np.inf), (0, np.inf)]\n",
    "    resolution = [7, 7]\n",
    "    transformations = [fractional_transformation(3), fractional_transformation(3)]\n",
    "    \n",
    "    # Create objects\n",
    "    grid = Grid(bounds, resolution, transformations)\n",
    "    model = TechnologySubstitution()\n",
    "    solver = NumericalSolver(model)\n",
    "    simulator = Simulator(grid, model, solver)\n",
    "    \n",
    "    # Run simulation\n",
    "    control = 0.5\n",
    "    results = simulator.simulate(\n",
    "        control=control,\n",
    "        delta_t=0.1,\n",
    "        num_samples_per_cell=3,  \n",
    "        num_steps=50,\n",
    "        save_result=True\n",
    "    )\n",
    "    \n",
    "    # Store results\n",
    "    db_path = output_path / 'simulation_results_test.db'\n",
    "    simulator.store_results_to_sqlite(db_path)\n",
    "    \n",
    "    print(f\"Stored {len(results)} rows of simulation data in {db_path}\")\n",
    "    return simulator"
   ]
  },
  {
   "cell_type": "code",
   "execution_count": 4,
   "metadata": {},
   "outputs": [
    {
     "name": "stdout",
     "output_type": "stream",
     "text": [
      "Simulation complete:\n",
      "- 147 samples × 50 timesteps = 7350 total rows\n",
      "- State dimensions: 2\n",
      "- Control dimensions: 1\n",
      "Saved results and config.\n",
      "Stored 7350 rows of simulation data in /home/julian/tuberlin/projects/mdp-world-model/datasets/results/simulation_results_test.db\n",
      "\n",
      "Configs data:\n",
      "            run_id                                           metadata\n",
      "0  20250207_163214  {\"configurations\": {\"grid\": {\"bounds\": [[0, In...\n",
      "\n",
      "Results data:\n",
      "            run_id trajectory_id   t0   t1        x0        x1   c0        y0  \\\n",
      "0  20250207_163214         0-0_0  0.0  0.1  0.125069  0.408799  0.5  0.125123   \n",
      "1  20250207_163214         0-0_0  0.1  0.2  0.125123  0.445972  0.5  0.125169   \n",
      "2  20250207_163214         0-0_0  0.2  0.3  0.125169  0.485150  0.5  0.125209   \n",
      "3  20250207_163214         0-0_0  0.3  0.4  0.125209  0.526236  0.5  0.125242   \n",
      "4  20250207_163214         0-0_0  0.4  0.5  0.125242  0.569136  0.5  0.125271   \n",
      "\n",
      "         y1  \n",
      "0  0.445972  \n",
      "1  0.485150  \n",
      "2  0.526236  \n",
      "3  0.569136  \n",
      "4  0.613756  \n"
     ]
    }
   ],
   "source": [
    "simulator = test_simulation_storage(OUTPUT_DIR)\n",
    "\n",
    "# Print info about stored data\n",
    "print(\"\\nConfigs data:\")\n",
    "print(simulator.configs.head())\n",
    "print(\"\\nResults data:\")\n",
    "print(simulator.results.head())"
   ]
  }
 ],
 "metadata": {
  "kernelspec": {
   "display_name": "mdp-world-model",
   "language": "python",
   "name": "python3"
  },
  "language_info": {
   "codemirror_mode": {
    "name": "ipython",
    "version": 3
   },
   "file_extension": ".py",
   "mimetype": "text/x-python",
   "name": "python",
   "nbconvert_exporter": "python",
   "pygments_lexer": "ipython3",
   "version": "3.12.7"
  }
 },
 "nbformat": 4,
 "nbformat_minor": 2
}
