{
 "cells": [
  {
   "cell_type": "code",
   "execution_count": null,
   "metadata": {},
   "outputs": [],
   "source": [
    "import os\n",
    "import sys\n",
    "parent_dir = os.path.abspath(os.path.join(os.path.join(os.getcwd(), \"..\"), \"..\"))\n",
    "sys.path.append(parent_dir)\n",
    "from pathlib import Path\n",
    "\n",
    "import numpy as np\n",
    "from data_generation.models.tech_substitution import TechnologySubstitution, TechSubNumericalSolver\n",
    "from data_generation.models.general_ode_solver import FitzHughNagumoModel\n",
    "from data_generation.models.general_ode_solver import GeneralODENumericalSolver\n",
    "from data_generation.simulations.grid import Grid, fractional_transformation, logistic_transformation\n",
    "from data_generation.simulations.simulator import Simulator"
   ]
  },
  {
   "cell_type": "code",
   "execution_count": 2,
   "metadata": {},
   "outputs": [
    {
     "data": {
      "text/plain": [
       "PosixPath('/home/kstiller/masterthesis/Coding/mdp-world-model/datasets/results')"
      ]
     },
     "execution_count": 2,
     "metadata": {},
     "output_type": "execute_result"
    }
   ],
   "source": [
    "OUTPUT_DIR = Path.cwd().parent.parent / \"datasets\" / \"results\"\n",
    "OUTPUT_DIR"
   ]
  },
  {
   "cell_type": "code",
   "execution_count": 3,
   "metadata": {},
   "outputs": [],
   "source": [
    "def test_simulation_storage(output_dir, bounds, transformations, model, solver, control):\n",
    "    \"\"\"Test simulating and storing simulation results in a SQLite database.\n",
    "    \n",
    "    Args:\n",
    "        output_dir (str or Path): Absolute path to output directory\n",
    "        bounds (list): List of tuples containing the lower and upper bounds of the grid\n",
    "        transformations (list): List of transformation functions\n",
    "        model : Model to simulate\n",
    "        solver(model): Solver to use, already initialized with the model\n",
    "        control (scalar or array): Control parameters for the simulation\n",
    "    \"\"\"\n",
    "    # Setup paths\n",
    "    output_path = Path(output_dir)\n",
    "    output_path.mkdir(parents=True, exist_ok=True)\n",
    "    \n",
    "    # Setup simulation\n",
    "    resolution = [7, 7]\n",
    "       \n",
    "    # Create objects\n",
    "    grid = Grid(bounds, resolution, transformations)\n",
    "    simulator = Simulator(grid, model, solver)\n",
    "    \n",
    "    # Run simulations\n",
    "    results = simulator.simulate(\n",
    "        control=control,\n",
    "        delta_t=0.1,\n",
    "        num_samples_per_cell=3,  \n",
    "        num_steps=50,\n",
    "        save_result=True\n",
    "    )\n",
    "    \n",
    "    # Store results\n",
    "    db_path = output_path / 'simulation_results_test.db'\n",
    "    simulator.store_results_to_sqlite(db_path)\n",
    "    \n",
    "    print(f\"Stored {len(results)} rows of simulation data in {db_path}\")\n",
    "\n",
    "    # Print info about stored data\n",
    "    print(\"\\nConfigs data:\")\n",
    "    print(simulator.configs.head())\n",
    "    print(\"\\nResults data:\")\n",
    "    print(simulator.results.head())\n",
    "    \n",
    "    return simulator"
   ]
  },
  {
   "cell_type": "code",
   "execution_count": null,
   "metadata": {},
   "outputs": [],
   "source": [
    "bounds = [(0, np.inf), (0, np.inf)]\n",
    "transformations = [fractional_transformation(3), fractional_transformation(3)]\n",
    "model = TechnologySubstitution()\n",
    "num_solver = TechSubNumericalSolver(model)\n",
    "control = 0.5"
   ]
  },
  {
   "cell_type": "code",
   "execution_count": 5,
   "metadata": {},
   "outputs": [
    {
     "name": "stdout",
     "output_type": "stream",
     "text": [
      "Simulation complete:\n",
      "- 147 samples × 50 timesteps = 7350 total rows\n",
      "- State dimensions: 2\n",
      "- Control dimensions: 1\n",
      "Saved results and config.\n",
      "Stored 7350 rows of simulation data in /home/kstiller/masterthesis/Coding/mdp-world-model/datasets/results/simulation_results_test.db\n",
      "\n",
      "Configs data:\n",
      "            run_id                                           metadata\n",
      "0  20250210_113054  {\"configurations\": {\"grid\": {\"bounds\": [[0, In...\n",
      "\n",
      "Results data:\n",
      "            run_id trajectory_id   t0   t1        x0        x1   c0        y0  \\\n",
      "0  20250210_113054         0-0_0  0.0  0.1  0.454042  0.255848  0.5  0.456911   \n",
      "1  20250210_113054         0-0_0  0.1  0.2  0.456911  0.280157  0.5  0.459451   \n",
      "2  20250210_113054         0-0_0  0.2  0.3  0.459451  0.306763  0.5  0.461681   \n",
      "3  20250210_113054         0-0_0  0.3  0.4  0.461681  0.335679  0.5  0.463632   \n",
      "4  20250210_113054         0-0_0  0.4  0.5  0.463632  0.366861  0.5  0.465331   \n",
      "\n",
      "         y1  \n",
      "0  0.280157  \n",
      "1  0.306763  \n",
      "2  0.335679  \n",
      "3  0.366861  \n",
      "4  0.400260  \n"
     ]
    }
   ],
   "source": [
    "simulator = test_simulation_storage(OUTPUT_DIR, bounds, transformations, model, num_solver, control)"
   ]
  },
  {
   "cell_type": "code",
   "execution_count": null,
   "metadata": {},
   "outputs": [],
   "source": [
    "bounds = [(-np.inf, np.inf), (-np.inf, np.inf)]\n",
    "trafo = logistic_transformation({'k': 1, 'x_0': 0})\n",
    "transformations = [trafo, trafo]\n",
    "model = FitzHughNagumoModel(control_params=['I', 'a'])\n",
    "num_solver = GeneralODENumericalSolver(model)\n",
    "control = [0.7, 0.5]"
   ]
  },
  {
   "cell_type": "code",
   "execution_count": 9,
   "metadata": {},
   "outputs": [
    {
     "name": "stdout",
     "output_type": "stream",
     "text": [
      "Simulation complete:\n",
      "- 147 samples × 50 timesteps = 7350 total rows\n",
      "- State dimensions: 2\n",
      "- Control dimensions: 2\n",
      "Saved results and config.\n",
      "Stored 7350 rows of simulation data in /home/kstiller/masterthesis/Coding/mdp-world-model/datasets/results/simulation_results_test.db\n",
      "\n",
      "Configs data:\n",
      "            run_id                                           metadata\n",
      "0  20250210_113147  {\"configurations\": {\"grid\": {\"bounds\": [[-Infi...\n",
      "\n",
      "Results data:\n",
      "            run_id trajectory_id   t0   t1        x0        x1   c0   c1  \\\n",
      "0  20250210_113147         0-0_0  0.0  0.1 -2.437791 -3.375719  0.7  0.5   \n",
      "1  20250210_113147         0-0_0  0.1  0.2 -1.972336 -2.546094  0.7  0.5   \n",
      "2  20250210_113147         0-0_0  0.2  0.3 -1.629230 -2.084501  0.7  0.5   \n",
      "3  20250210_113147         0-0_0  0.3  0.4 -1.341994 -1.759565  0.7  0.5   \n",
      "4  20250210_113147         0-0_0  0.4  0.5 -1.080005 -1.498683  0.7  0.5   \n",
      "\n",
      "         y0        y1  \n",
      "0 -1.972336 -2.546094  \n",
      "1 -1.629230 -2.084501  \n",
      "2 -1.341994 -1.759565  \n",
      "3 -1.080005 -1.498683  \n",
      "4 -0.825441 -1.270879  \n"
     ]
    }
   ],
   "source": [
    "simulator = test_simulation_storage(OUTPUT_DIR, bounds, transformations, model, num_solver, control)"
   ]
  }
 ],
 "metadata": {
  "kernelspec": {
   "display_name": "py312clustering",
   "language": "python",
   "name": "python3"
  },
  "language_info": {
   "codemirror_mode": {
    "name": "ipython",
    "version": 3
   },
   "file_extension": ".py",
   "mimetype": "text/x-python",
   "name": "python",
   "nbconvert_exporter": "python",
   "pygments_lexer": "ipython3",
   "version": "3.12.8"
  }
 },
 "nbformat": 4,
 "nbformat_minor": 2
}
