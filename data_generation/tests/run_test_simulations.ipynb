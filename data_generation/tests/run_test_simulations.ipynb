{
 "cells": [
  {
   "cell_type": "code",
   "execution_count": null,
   "metadata": {},
   "outputs": [],
   "source": [
    "import os\n",
    "import sys\n",
    "parent_dir = os.path.abspath(os.path.join(os.path.join(os.getcwd(), \"..\"), \"..\"))\n",
    "sys.path.append(parent_dir)\n",
    "from pathlib import Path\n",
    "\n",
    "import numpy as np\n",
    "from data_generation.models.tech_substitution import TechnologySubstitution\n",
    "from data_generation.models.tech_substitution import TechSubNumericalSolver\n",
    "from data_generation.models.general_ode_solver import FitzHughNagumoModel\n",
    "from data_generation.models.general_ode_solver import GeneralODENumericalSolver\n",
    "from data_generation.simulations.grid import Grid, fractional_transformation, logistic_transformation\n",
    "from data_generation.simulations.simulator import run_and_store_simulations"
   ]
  },
  {
   "cell_type": "code",
   "execution_count": 10,
   "metadata": {},
   "outputs": [
    {
     "data": {
      "text/plain": [
       "PosixPath('/home/kstiller/masterthesis/Coding/mdp-world-model/datasets/results')"
      ]
     },
     "execution_count": 10,
     "metadata": {},
     "output_type": "execute_result"
    }
   ],
   "source": [
    "OUTPUT_DIR = Path.cwd().parent.parent / \"datasets\" / \"results\"\n",
    "OUTPUT_DIR"
   ]
  },
  {
   "cell_type": "code",
   "execution_count": null,
   "metadata": {},
   "outputs": [],
   "source": [
    "bounds = [(0, np.inf), (0, np.inf)]\n",
    "transformations = [fractional_transformation(3), fractional_transformation(3)]\n",
    "model = TechnologySubstitution()\n",
    "num_solver = TechSubNumericalSolver(model)\n",
    "control = 0.5\n",
    "resolution = [3, 3]\n",
    "num_samples_per_cell = 10\n",
    "num_steps = 1\n",
    "delta_t = 3"
   ]
  },
  {
   "cell_type": "code",
   "execution_count": 12,
   "metadata": {},
   "outputs": [
    {
     "name": "stdout",
     "output_type": "stream",
     "text": [
      "Simulation complete:\n",
      "- 90 samples × 1 timesteps = 90 total rows\n",
      "- State dimensions: 2\n",
      "- Control dimensions: 1\n",
      "Saved results and config.\n",
      "Stored 90 rows of simulation data in /home/kstiller/masterthesis/Coding/mdp-world-model/datasets/results/simulation_results.db\n",
      "\n",
      "Configs data:\n",
      "            run_id                                           metadata\n",
      "0  20250218_112334  {\"configurations\": {\"grid\": {\"bounds\": [[0, In...\n",
      "\n",
      "Results data:\n",
      "            run_id trajectory_id   t0   t1        x0        x1   c0        y0  \\\n",
      "0  20250218_112334         0-0_0  0.0  3.0  0.151614  0.449707  0.5  0.152177   \n",
      "1  20250218_112334         0-0_1  0.0  3.0  0.142143  1.079720  0.5  0.142255   \n",
      "2  20250218_112334         0-0_2  0.0  3.0  0.697555  1.103504  0.5  0.703373   \n",
      "3  20250218_112334         0-0_3  0.0  3.0  0.751957  0.785298  0.5  0.764559   \n",
      "4  20250218_112334         0-0_4  0.0  3.0  0.869541  0.212769  0.5  1.046190   \n",
      "\n",
      "         y1  \n",
      "0  2.164093  \n",
      "1  3.081576  \n",
      "2  3.106157  \n",
      "3  2.673746  \n",
      "4  1.404982  \n"
     ]
    },
    {
     "data": {
      "text/plain": [
       "<data_generation.simulations.simulator.Simulator at 0x7fb4832497c0>"
      ]
     },
     "execution_count": 12,
     "metadata": {},
     "output_type": "execute_result"
    }
   ],
   "source": [
    "run_and_store_simulations(OUTPUT_DIR, \n",
    "                          bounds, \n",
    "                          transformations, \n",
    "                          model, \n",
    "                          num_solver, \n",
    "                          control, \n",
    "                          resolution,\n",
    "                          num_samples_per_cell,\n",
    "                          num_steps,\n",
    "                          delta_t)"
   ]
  }
 ],
 "metadata": {
  "kernelspec": {
   "display_name": "py312clustering",
   "language": "python",
   "name": "python3"
  },
  "language_info": {
   "codemirror_mode": {
    "name": "ipython",
    "version": 3
   },
   "file_extension": ".py",
   "mimetype": "text/x-python",
   "name": "python",
   "nbconvert_exporter": "python",
   "pygments_lexer": "ipython3",
   "version": "3.12.8"
  }
 },
 "nbformat": 4,
 "nbformat_minor": 2
}
